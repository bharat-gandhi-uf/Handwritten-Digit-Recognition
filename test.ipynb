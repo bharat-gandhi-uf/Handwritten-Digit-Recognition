{
 "cells": [
  {
   "cell_type": "markdown",
   "id": "165b415a-c485-4abf-a909-1b1d489d16d6",
   "metadata": {},
   "source": [
    "#### IMPORTANT: Kernel used on HiPerGator - Yolo-v8"
   ]
  },
  {
   "cell_type": "code",
   "execution_count": 10,
   "id": "d905eaaf-fd51-436b-bdc2-be829de5159c",
   "metadata": {
    "tags": []
   },
   "outputs": [],
   "source": [
    "# Install torchmetrics.\n",
    "!pip install torchmetrics"
   ]
  },
  {
   "cell_type": "code",
   "execution_count": 2,
   "id": "169920ab-69af-450f-bc34-03c2037cbb6d",
   "metadata": {
    "tags": []
   },
   "outputs": [],
   "source": [
    "# Import necessary libraries\n",
    "import os\n",
    "import torch\n",
    "import numpy as np\n",
    "from pprint import pprint\n",
    "from ultralytics import YOLO\n",
    "from torchmetrics.detection import IntersectionOverUnion\n",
    "from torchmetrics.detection import MeanAveragePrecision"
   ]
  },
  {
   "cell_type": "code",
   "execution_count": 3,
   "id": "384af4e0-be14-48c2-ac00-9f86c9a2c04d",
   "metadata": {
    "tags": []
   },
   "outputs": [],
   "source": [
    "# Give the path to 'best.pt' file which is inside the weights folder. The folder has been uploaded into git repo\n",
    "# Find the example path below\n",
    "model = YOLO('runs/detect/train10/weights/best.pt')\n",
    "\n",
    "# Specify the path of the folder which contain test images '.jpg' files\n",
    "test_images = '../datasets/valid/images'\n",
    "\n",
    "# Specify the path of the folder which contains test labels '.txt' files\n",
    "test_labels = \"../datasets/valid/labels\""
   ]
  },
  {
   "cell_type": "code",
   "execution_count": 4,
   "id": "cb0ce7d2-1a18-4664-a271-888b2e07a37c",
   "metadata": {
    "tags": []
   },
   "outputs": [],
   "source": [
    "def predict_objects(model, test_images):\n",
    "    \"\"\"\n",
    "    This function predict and save the predicted coordiantes, class labels and confidence score\n",
    "    into .txt files, one per image with the same file name.\n",
    "    \"\"\"\n",
    "    results_detection = model.predict(source = test_images, save_txt= True, save_conf = True)\n",
    "    result_dir = results_detection[0].save_dir\n",
    "    pred_path = str(result_dir)\n",
    "    return pred_path"
   ]
  },
  {
   "cell_type": "code",
   "execution_count": 8,
   "id": "5a3c07fe-b918-4203-a970-2b53f37523e3",
   "metadata": {
    "scrolled": true,
    "tags": []
   },
   "outputs": [],
   "source": [
    "# We call the predict function to run the prediction on test set\n",
    "# and store the path to the prediction labels into a variable\n",
    "pred_path = predict_objects(model, test_images)"
   ]
  },
  {
   "cell_type": "code",
   "execution_count": 6,
   "id": "d5395803-c111-4d22-8e2b-cb84d6d9143d",
   "metadata": {
    "tags": []
   },
   "outputs": [],
   "source": [
    "# This code cell performs preparation of data for iou and map calculations\n",
    "\n",
    "def yolo_to_abs_coords(yolo_data, img_width, img_height, include_scores=False):\n",
    "    \"\"\"\n",
    "    Convert YOLO format to (xmin, ymin, xmax, ymax) with optional scores.\n",
    "    \"\"\"\n",
    "    abs_boxes = []\n",
    "    labels = []\n",
    "    scores = []\n",
    "    \n",
    "    for entry in yolo_data:\n",
    "        if include_scores:\n",
    "            cls, x_center, y_center, width, height, score = entry\n",
    "            scores.append(float(score))\n",
    "        else:\n",
    "            cls, x_center, y_center, width, height = entry\n",
    "        \n",
    "        xmin = (x_center - width / 2) * img_width\n",
    "        ymin = (y_center - height / 2) * img_height\n",
    "        xmax = (x_center + width / 2) * img_width\n",
    "        ymax = (y_center + height / 2) * img_height\n",
    "        \n",
    "        abs_boxes.append([xmin, ymin, xmax, ymax])\n",
    "        labels.append(int(cls))  # Convert class to integer\n",
    "    \n",
    "    if include_scores:\n",
    "        return (torch.tensor(abs_boxes, dtype=torch.float32), \n",
    "                torch.tensor(labels, dtype=torch.int64),\n",
    "                torch.tensor(scores, dtype=torch.float32))\n",
    "    else:\n",
    "        return torch.tensor(abs_boxes, dtype=torch.float32), torch.tensor(labels, dtype=torch.int64)\n",
    "\n",
    "def parse_yolo_file(file_path, include_scores=False):\n",
    "    \"\"\"\n",
    "    Parse a YOLO .txt file into a list of tuples. Includes scores if specified.\n",
    "    \"\"\"\n",
    "    with open(file_path, \"r\") as f:\n",
    "        lines = f.readlines()\n",
    "    return [list(map(float, line.strip().split())) for line in lines]\n",
    "\n",
    "def prepare_data(file_paths, img_width, img_height, include_scores=False):\n",
    "    \"\"\"\n",
    "    Prepare data for multiple YOLO files into the required format for PyTorch metrics.\n",
    "    \"\"\"\n",
    "    data = []\n",
    "    for file_path in file_paths:\n",
    "        yolo_data = parse_yolo_file(file_path, include_scores)\n",
    "        if include_scores:\n",
    "            boxes, labels, scores = yolo_to_abs_coords(yolo_data, img_width, img_height, include_scores)\n",
    "            data.append({\"boxes\": boxes, \"labels\": labels, \"scores\": scores})\n",
    "        else:\n",
    "            boxes, labels = yolo_to_abs_coords(yolo_data, img_width, img_height, include_scores)\n",
    "            data.append({\"boxes\": boxes, \"labels\": labels})\n",
    "    return data\n",
    "\n",
    "# Synchronize prediction and ground truth files\n",
    "def match_files(preds_dir, targets_dir):\n",
    "    \"\"\"\n",
    "    Match files in preds_dir and targets_dir, keeping only pairs with the same base name.\n",
    "    \"\"\"\n",
    "    preds_files = set(os.listdir(preds_dir))\n",
    "    targets_files = set(os.listdir(targets_dir))\n",
    "    \n",
    "    # Get common files\n",
    "    common_files = preds_files.intersection(targets_files)\n",
    "    \n",
    "    # Generate full paths for common files\n",
    "    preds_paths = [os.path.join(preds_dir, f) for f in common_files]\n",
    "    targets_paths = [os.path.join(targets_dir, f) for f in common_files]\n",
    "    \n",
    "    return sorted(preds_paths), sorted(targets_paths)\n",
    "\n",
    "def calculate_iou_and_map(test_labels, pred_path):\n",
    "    \"\"\"\n",
    "    This function calculates the iou and map scores based on predictions and ground truth\n",
    "    \"\"\"\n",
    "    img_width = 640\n",
    "    img_height = 640\n",
    "\n",
    "    # Directories containing YOLO label files\n",
    "    preds_dir = pred_path + \"/labels\"\n",
    "    targets_dir = test_labels\n",
    "\n",
    "    # Match prediction and target files\n",
    "    preds_files, targets_files = match_files(preds_dir, targets_dir)\n",
    "\n",
    "    # Prepare prediction and target data\n",
    "    preds = prepare_data(preds_files, img_width, img_height, include_scores=True)\n",
    "    targets = prepare_data(targets_files, img_width, img_height, include_scores=False)\n",
    "\n",
    "    map_metric = MeanAveragePrecision(iou_type=\"bbox\")\n",
    "    map_metric.update(preds, targets)\n",
    "    pprint(map_metric.compute())\n",
    "\n",
    "    iou_metric = IntersectionOverUnion()\n",
    "    iou_score = iou_metric(preds, targets)\n",
    "    print(f\"Mean IoU Score: {iou_score}\")"
   ]
  },
  {
   "cell_type": "code",
   "execution_count": 9,
   "id": "4ed62a7d-3f67-419a-9fae-c0b90c6c6ed5",
   "metadata": {
    "tags": []
   },
   "outputs": [],
   "source": [
    "# Call the function to output IoU and MAP results over the test data\n",
    "calculate_iou_and_map(test_labels, pred_path)"
   ]
  },
  {
   "cell_type": "code",
   "execution_count": null,
   "id": "de1ce227-92ff-4b4f-9c47-1a72a91321fd",
   "metadata": {},
   "outputs": [],
   "source": []
  }
 ],
 "metadata": {
  "kernelspec": {
   "display_name": "Yolo-v8",
   "language": "python",
   "name": "yolo-v8"
  },
  "language_info": {
   "codemirror_mode": {
    "name": "ipython",
    "version": 3
   },
   "file_extension": ".py",
   "mimetype": "text/x-python",
   "name": "python",
   "nbconvert_exporter": "python",
   "pygments_lexer": "ipython3",
   "version": "3.8.13"
  }
 },
 "nbformat": 4,
 "nbformat_minor": 5
}
