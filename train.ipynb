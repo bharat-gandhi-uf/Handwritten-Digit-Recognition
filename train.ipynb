{
 "cells": [
  {
   "cell_type": "markdown",
   "id": "11f8ca91-d35a-4194-b78c-2c3978ff4729",
   "metadata": {},
   "source": [
    "---"
   ]
  },
  {
   "cell_type": "markdown",
   "id": "92f820c5-9f53-4ef0-9d25-cc91deccb8ab",
   "metadata": {},
   "source": [
    "#### IMPORTANT: Kernel used on HiPerGator - Yolo-v8"
   ]
  },
  {
   "cell_type": "code",
   "execution_count": 1,
   "id": "4687ae41-43b9-41cd-897a-ad6698a4b778",
   "metadata": {
    "tags": []
   },
   "outputs": [],
   "source": [
    "# Import necessary libraries\n",
    "import torch\n",
    "import numpy as np\n",
    "from ultralytics import YOLO"
   ]
  },
  {
   "cell_type": "code",
   "execution_count": 2,
   "id": "a3c61249-d1db-4077-a9c6-dede8e27ca7a",
   "metadata": {
    "tags": []
   },
   "outputs": [],
   "source": [
    "torch.cuda.empty_cache()"
   ]
  },
  {
   "cell_type": "code",
   "execution_count": 3,
   "id": "7ef004b8-515f-4e7c-94e9-b6d3e84bf3b3",
   "metadata": {},
   "outputs": [],
   "source": [
    "# Downloads the YOLOv8 model in the current working directory\n",
    "# The model is also uploaded to git repo\n",
    "model = YOLO('yolov8n.pt')"
   ]
  },
  {
   "cell_type": "code",
   "execution_count": 4,
   "id": "6a16a126-a986-4994-9fe5-cdc1917c5439",
   "metadata": {
    "scrolled": true,
    "tags": []
   },
   "outputs": [],
   "source": [
    "# Now we train the model. Make sure to change the epochs as necessary\n",
    "# The data.yaml file contains the path to training and validation datasets.\n",
    "# Make sure to edit the .yaml file accordingly prior to training\n",
    "\n",
    "# Uncomment the below code to train the model\n",
    "\n",
    "#model.train(data='data.yaml', epochs=10, optimizer = 'auto', batch = 32, plots = True)"
   ]
  },
  {
   "cell_type": "code",
   "execution_count": null,
   "id": "38478476-e786-45b0-818e-80fc160f171a",
   "metadata": {},
   "outputs": [],
   "source": []
  }
 ],
 "metadata": {
  "kernelspec": {
   "display_name": "Yolo-v8",
   "language": "python",
   "name": "yolo-v8"
  },
  "language_info": {
   "codemirror_mode": {
    "name": "ipython",
    "version": 3
   },
   "file_extension": ".py",
   "mimetype": "text/x-python",
   "name": "python",
   "nbconvert_exporter": "python",
   "pygments_lexer": "ipython3",
   "version": "3.8.13"
  },
  "latex_envs": {
   "LaTeX_envs_menu_present": true,
   "autoclose": false,
   "autocomplete": true,
   "bibliofile": "biblio.bib",
   "cite_by": "apalike",
   "current_citInitial": 1,
   "eqLabelWithNumbers": true,
   "eqNumInitial": 1,
   "hotkeys": {
    "equation": "Ctrl-E",
    "itemize": "Ctrl-I"
   },
   "labels_anchors": false,
   "latex_user_defs": false,
   "report_style_numbering": false,
   "user_envs_cfg": false
  },
  "varInspector": {
   "cols": {
    "lenName": 16,
    "lenType": 16,
    "lenVar": 40
   },
   "kernels_config": {
    "python": {
     "delete_cmd_postfix": "",
     "delete_cmd_prefix": "del ",
     "library": "var_list.py",
     "varRefreshCmd": "print(var_dic_list())"
    },
    "r": {
     "delete_cmd_postfix": ") ",
     "delete_cmd_prefix": "rm(",
     "library": "var_list.r",
     "varRefreshCmd": "cat(var_dic_list()) "
    }
   },
   "types_to_exclude": [
    "module",
    "function",
    "builtin_function_or_method",
    "instance",
    "_Feature"
   ],
   "window_display": false
  },
  "widgets": {
   "application/vnd.jupyter.widget-state+json": {
    "state": {},
    "version_major": 2,
    "version_minor": 0
   }
  }
 },
 "nbformat": 4,
 "nbformat_minor": 5
}
